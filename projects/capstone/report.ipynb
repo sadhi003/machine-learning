{
 "cells": [
  {
   "cell_type": "markdown",
   "metadata": {},
   "source": [
    "## Project Report"
   ]
  },
  {
   "cell_type": "markdown",
   "metadata": {},
   "source": [
    "### Project report examples follow\n",
    "\n",
    "https://github.com/shamitp/udacity-mlnd-projects/tree/master/capstone\n",
    "    \n",
    "https://github.com/hadi-ramezani/Capstone_ZillowPrize\n",
    "    \n",
    "https://github.com/ramborra/Zillow-Home-Value-Prediction\n",
    "    \n",
    "https://github.com/parze/machine-learning-zillow-prize\n",
    "    \n",
    "https://github.com/csawtelle/udacity-machine-learning-nanodegree/tree/master/capstone\n",
    "    \n",
    "https://github.com/zyaj/Zillow_zestimate_error\n",
    "    \n"
   ]
  },
  {
   "cell_type": "code",
   "execution_count": null,
   "metadata": {
    "collapsed": true
   },
   "outputs": [],
   "source": []
  }
 ],
 "metadata": {
  "kernelspec": {
   "display_name": "Python 2",
   "language": "python",
   "name": "python2"
  },
  "language_info": {
   "codemirror_mode": {
    "name": "ipython",
    "version": 2
   },
   "file_extension": ".py",
   "mimetype": "text/x-python",
   "name": "python",
   "nbconvert_exporter": "python",
   "pygments_lexer": "ipython2",
   "version": "2.7.12"
  }
 },
 "nbformat": 4,
 "nbformat_minor": 0
}
